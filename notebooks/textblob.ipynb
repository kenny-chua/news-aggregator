{
 "cells": [
  {
   "cell_type": "markdown",
   "metadata": {},
   "source": [
    "# Textblob"
   ]
  },
  {
   "cell_type": "code",
   "execution_count": null,
   "metadata": {},
   "outputs": [],
   "source": [
    "from textblob import TextBlob\n",
    "classify(\"I love you\")\n",
    "classifier = MaxEntClassifier(train_data)\n",
    "testimonial = TextBlob(\"\"\"Former New York Giants quarterback Daniel Jones is signing with the Minnesota Vikings, coach Kevin O'Connell said Wednesday, a notable move for a team that is likely facing another quarterback transition in the offseason.\n",
    "Jones became a free agent Monday after clearing waivers following a mutual decision to move on from New York. Sources had told ESPN's Adam Schefter that Jones preferred to sign with a playoff contender, with the Vikings among his potential destinations.\n",
    "The Vikings are signing Jones for $375,000 for the remainder of this season, a source told Schefter. He will start out on the Vikings' practice squad, leaving the possibility Jones could sign with another team if another starting quarterback goes down in the next three weeks.\n",
    "Jones is scheduled to become a free agent after this seaso\n",
    "O'Connell said Wednesday afternoon that Jones is scheduled to join the practice squad Friday morning, pending the finalization of his one-year contract. O'Connell said there was no need to think about the future implications of Jones' arrival and added: \"There's short-term and long-term conversations that are going on at every position on our roster.\"\n",
    "The Vikings will not release a quarterback as part of the move, O'Connell sai\n",
    "\"I've always been a fan [of Jones],\" O'Connell said. \"Love, really liked the person, the human being, the makeup, and then the player, Daniel Jones. I think there's so much out in front of him that are going to be really good things that we get to personally be a part of, and I can't wait to work with him.\"\n",
    "Earlier this week, O'Connell spoke with each quarterback on the roster to reiterate his confidence in them. Minnesota's QB depth chart has Sam Darnold, Nick Mullens and Brett Rypien with J.J. McCarthy on injured reserve.\n",
    "\"I think that's important,\" O'Connell said. \"I wouldn't be who I kind of claim to be and be authentically me if I didn't have a clear, open and honest communication with those guys, which in a lot of ways I hope they weren't surprised to hear my confidence level in them. My confidence level in our current quarterback room [is high], and I only think we're adding to it when Daniel arrives on Friday.\"\n",
    "Entering Wednesday, the Vikings had only one quarterback under contract for the 2025 season. That's rookie McCarthy, who suffered a season-ending meniscus injury in his right knee during his preseason debut and has since had a second surgery to address swelling that had developed during his rehabilitation. Doctors gave him a biological injection, and the Vikings have said that his timetable for a 2025 return remains on track.\n",
    "McCarthy's injury shifted veteran Darnold from a likely bridge option to the Vikings' starting quarterback. He has led the team to a 9-2 record amid a career year, having already surpassed his career high for touchdown passes in a season (21), and could command a hefty free agent contract this offseason.\n",
    "He welcomed Jones to the team\n",
    "\"Just excited to get him in here and be teammates with him,\" he said. \"He's played a lot of football, so just to be able to draw from his experience on certain things, he's going to help this football team.\n",
    "In the short term, Jones is likely to back up both Darnold and incumbent No. 2 quarterback Nick Mullens. If nothing else, Wednesday's move will give the Vikings a head start on evaluating whether they would want to pair Jones with McCarthy in 2025. It also places Jones with Kevin O'Connell, one of the NFL's best quarterback tutors.\n",
    "One of Jones' best career games came in a wild-card playoff matchup against the Vikings in January 2023, when he completed 24 of 35 passes for 301 yards and two touchdowns while also rushing for 78 yards. That performance helped lead to the four-year, $160 million contract extension he signed with the Giants prior to the 2023 season.\n",
    "Jones spent six seasons with the Giants, mostly as the franchise quarterback. The No. 6 pick in the 2019 NFL draft out of Duke, Jones' Giants tenure ended with a 22-44-1 record, 70 touchdown passes and 47 interceptions.\"\"\")\n",
    "\n",
    "new = repr(testimonial)\n",
    "print(new)\n",
    "testimonial.sentiment"
   ]
  },
  {
   "cell_type": "code",
   "execution_count": null,
   "metadata": {},
   "outputs": [],
   "source": []
  }
 ],
 "metadata": {
  "kernelspec": {
   "display_name": ".venv",
   "language": "python",
   "name": "python3"
  },
  "language_info": {
   "codemirror_mode": {
    "name": "ipython",
    "version": 3
   },
   "file_extension": ".py",
   "mimetype": "text/x-python",
   "name": "python",
   "nbconvert_exporter": "python",
   "pygments_lexer": "ipython3",
   "version": "3.11.10"
  }
 },
 "nbformat": 4,
 "nbformat_minor": 2
}
