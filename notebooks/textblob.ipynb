{
 "cells": [
  {
   "cell_type": "markdown",
   "metadata": {},
   "source": [
    "# Textblob"
   ]
  },
  {
   "cell_type": "code",
   "execution_count": null,
   "metadata": {},
   "outputs": [],
   "source": [
    "# Add the parent directory (news-agg) to sys.path\n",
    "import sys\n",
    "from pathlib import Path\n",
    "\n",
    "parent_dir = Path.cwd().parent\n",
    "if str(parent_dir) not in sys.path:\n",
    "    sys.path.append(str(parent_dir))\n",
    "\n",
    "# Verify the parent directory is added\n",
    "print(\"Updated sys.path:\")\n",
    "print(sys.path)\n"
   ]
  },
  {
   "cell_type": "code",
   "execution_count": null,
   "metadata": {},
   "outputs": [],
   "source": [
    "from sqlmodel import Session, select, create_engine\n",
    "from app.models import TopHeadline  # Replace with your actual model\n",
    "from textblob import TextBlob\n",
    "\n",
    "# Connect to your SQLite database\n",
    "engine = create_engine(\"sqlite:///newslist_notebook.db\")  # Replace with your database path\n",
    "\n",
    "# Define a query to fetch rows with a NULL sentiment column\n",
    "sql_stmt = select(TopHeadline).where(TopHeadline.sentiment.is_(None))\n",
    "\n",
    "# Start a session to test sentiment analysis\n",
    "with Session(engine) as session:\n",
    "    # Fetch rows from the database\n",
    "    rows = session.exec(sql_stmt).all()\n",
    "    \n",
    "    # Loop through each row and analyze the sentiment\n",
    "    for row in rows:\n",
    "        analysis = TextBlob(row.content)  # Perform sentiment analysis on the 'content' column\n",
    "        polarity = analysis.sentiment.polarity  # Get polarity score\n",
    "\n",
    "        # Determine sentiment\n",
    "        if polarity < 0:\n",
    "            row.sentiment = \"negative\"\n",
    "        elif polarity == 0:\n",
    "            row.sentiment = \"neutral\"\n",
    "        else:\n",
    "            row.sentiment = \"positive\"\n",
    "\n",
    "        # Print for verification (no commit yet)\n",
    "        print(f\"ID: {row.id}, Sentiment: {row.sentiment}\")\n",
    "    \n",
    "    # No commit here, changes will not persist\n",
    "    print(\"Test completed. Changes are not committed to the database.\")\n"
   ]
  }
 ],
 "metadata": {
  "kernelspec": {
   "display_name": ".venv",
   "language": "python",
   "name": "python3"
  },
  "language_info": {
   "codemirror_mode": {
    "name": "ipython",
    "version": 3
   },
   "file_extension": ".py",
   "mimetype": "text/x-python",
   "name": "python",
   "nbconvert_exporter": "python",
   "pygments_lexer": "ipython3",
   "version": "3.11.10"
  }
 },
 "nbformat": 4,
 "nbformat_minor": 2
}
