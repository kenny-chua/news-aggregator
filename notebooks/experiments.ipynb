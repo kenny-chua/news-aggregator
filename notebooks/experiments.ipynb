{
 "cells": [
  {
   "cell_type": "markdown",
   "metadata": {},
   "source": [
    "# Testing Retrieving Articles"
   ]
  },
  {
   "cell_type": "markdown",
   "metadata": {},
   "source": [
    "## Cleaning - GOOD!"
   ]
  },
  {
   "cell_type": "code",
   "execution_count": null,
   "metadata": {},
   "outputs": [],
   "source": [
    "def clean_malformed_escaped_url(url: str) -> str:\n",
    "    print(repr(url))\n",
    "    url = url.strip()\n",
    "    print(repr(url))\n",
    "    url = url.replace(\"\\\\u003d\", \"=\")\n",
    "    print(repr(url))\n",
    "    url = url.replace(\" \", \"%20\")\n",
    "    return url\n",
    "\n",
    "url = \"https://abcnews.go.com/US/bird-flu-found-sample-california-raw-milk-officials/story?id\\\\u003d116185808\"\n",
    "print(clean_malformed_escaped_url(url))"
   ]
  },
  {
   "cell_type": "markdown",
   "metadata": {},
   "source": [
    "## Testing with Fork Newspaper4k"
   ]
  },
  {
   "cell_type": "code",
   "execution_count": 1,
   "metadata": {},
   "outputs": [
    {
     "ename": "Error",
     "evalue": "It looks like you are using Playwright Sync API inside the asyncio loop.\nPlease use the Async API instead.",
     "output_type": "error",
     "traceback": [
      "\u001b[0;31m---------------------------------------------------------------------------\u001b[0m",
      "\u001b[0;31mError\u001b[0m                                     Traceback (most recent call last)",
      "Cell \u001b[0;32mIn[1], line 20\u001b[0m\n\u001b[1;32m     17\u001b[0m     \u001b[38;5;28;01mreturn\u001b[39;00m article\n\u001b[1;32m     19\u001b[0m url \u001b[38;5;241m=\u001b[39m \u001b[38;5;124m\"\u001b[39m\u001b[38;5;124mhttps://www.reuters.com/world/asia-pacific/south-korea-protesters-rally-against-yoon-arrest-deadline-looms-2025-01-05/\u001b[39m\u001b[38;5;124m\"\u001b[39m\n\u001b[0;32m---> 20\u001b[0m \u001b[38;5;28mprint\u001b[39m(\u001b[43mscrape_with_playwright\u001b[49m\u001b[43m(\u001b[49m\u001b[43murl\u001b[49m\u001b[43m)\u001b[49m)\n",
      "Cell \u001b[0;32mIn[1], line 7\u001b[0m, in \u001b[0;36mscrape_with_playwright\u001b[0;34m(url)\u001b[0m\n\u001b[1;32m      5\u001b[0m \u001b[38;5;28;01mdef\u001b[39;00m \u001b[38;5;21mscrape_with_playwright\u001b[39m(url):\n\u001b[1;32m      6\u001b[0m     \u001b[38;5;66;03m# Using Playwright to render JavaScript\u001b[39;00m\n\u001b[0;32m----> 7\u001b[0m \u001b[43m    \u001b[49m\u001b[38;5;28;43;01mwith\u001b[39;49;00m\u001b[43m \u001b[49m\u001b[43msync_playwright\u001b[49m\u001b[43m(\u001b[49m\u001b[43m)\u001b[49m\u001b[43m \u001b[49m\u001b[38;5;28;43;01mas\u001b[39;49;00m\u001b[43m \u001b[49m\u001b[43mp\u001b[49m\u001b[43m:\u001b[49m\n\u001b[1;32m      8\u001b[0m \u001b[43m        \u001b[49m\u001b[43mbrowser\u001b[49m\u001b[43m \u001b[49m\u001b[38;5;241;43m=\u001b[39;49m\u001b[43m \u001b[49m\u001b[43mp\u001b[49m\u001b[38;5;241;43m.\u001b[39;49m\u001b[43mchromium\u001b[49m\u001b[38;5;241;43m.\u001b[39;49m\u001b[43mlaunch\u001b[49m\u001b[43m(\u001b[49m\u001b[43m)\u001b[49m\n\u001b[1;32m      9\u001b[0m \u001b[43m        \u001b[49m\u001b[43mcontext\u001b[49m\u001b[43m \u001b[49m\u001b[38;5;241;43m=\u001b[39;49m\u001b[43m \u001b[49m\u001b[43mbrowser\u001b[49m\u001b[38;5;241;43m.\u001b[39;49m\u001b[43mnew_context\u001b[49m\u001b[43m(\u001b[49m\u001b[43m)\u001b[49m\n",
      "File \u001b[0;32m~/workspace/pybites/news-aggregator/.venv/lib/python3.11/site-packages/playwright/sync_api/_context_manager.py:47\u001b[0m, in \u001b[0;36mPlaywrightContextManager.__enter__\u001b[0;34m(self)\u001b[0m\n\u001b[1;32m     45\u001b[0m             \u001b[38;5;28mself\u001b[39m\u001b[38;5;241m.\u001b[39m_own_loop \u001b[38;5;241m=\u001b[39m \u001b[38;5;28;01mTrue\u001b[39;00m\n\u001b[1;32m     46\u001b[0m         \u001b[38;5;28;01mif\u001b[39;00m \u001b[38;5;28mself\u001b[39m\u001b[38;5;241m.\u001b[39m_loop\u001b[38;5;241m.\u001b[39mis_running():\n\u001b[0;32m---> 47\u001b[0m             \u001b[38;5;28;01mraise\u001b[39;00m Error(\n\u001b[1;32m     48\u001b[0m \u001b[38;5;250m                \u001b[39m\u001b[38;5;124;03m\"\"\"It looks like you are using Playwright Sync API inside the asyncio loop.\u001b[39;00m\n\u001b[1;32m     49\u001b[0m \u001b[38;5;124;03mPlease use the Async API instead.\"\"\"\u001b[39;00m\n\u001b[1;32m     50\u001b[0m             )\n\u001b[1;32m     52\u001b[0m         \u001b[38;5;66;03m# Create a new fiber for the protocol dispatcher. It will be pumping events\u001b[39;00m\n\u001b[1;32m     53\u001b[0m         \u001b[38;5;66;03m# until the end of times. We will pass control to that fiber every time we\u001b[39;00m\n\u001b[1;32m     54\u001b[0m         \u001b[38;5;66;03m# block while waiting for a response.\u001b[39;00m\n\u001b[1;32m     55\u001b[0m         \u001b[38;5;28;01mdef\u001b[39;00m \u001b[38;5;21mgreenlet_main\u001b[39m() \u001b[38;5;241m-\u001b[39m\u001b[38;5;241m>\u001b[39m \u001b[38;5;28;01mNone\u001b[39;00m:\n",
      "\u001b[0;31mError\u001b[0m: It looks like you are using Playwright Sync API inside the asyncio loop.\nPlease use the Async API instead."
     ]
    }
   ],
   "source": [
    "from playwright.sync_api import sync_playwright\n",
    "import time\n",
    "import newspaper\n",
    "\n",
    "def scrape_with_playwright(url):\n",
    "    # Using Playwright to render JavaScript\n",
    "    with sync_playwright() as p:\n",
    "        browser = p.chromium.launch()\n",
    "        context = browser.new_context()\n",
    "        context.set_default_timeout(60000)\n",
    "        page = context.new_page()\n",
    "        page.goto(url, wait_until=\"domcontentloaded\", timeout=60000)\n",
    "        time.sleep(3) # Allow the javascript to render\n",
    "        content = page.content()\n",
    "        browser.close()\n",
    "    article = newspaper.article(url, input_html=content, language='en')\n",
    "    return article\n",
    "\n",
    "url = \"https://www.reuters.com/world/asia-pacific/south-korea-protesters-rally-against-yoon-arrest-deadline-looms-2025-01-05/\"\n",
    "print(scrape_with_playwright(url))"
   ]
  },
  {
   "cell_type": "markdown",
   "metadata": {},
   "source": [
    "## Newspaper 3k"
   ]
  },
  {
   "cell_type": "code",
   "execution_count": null,
   "metadata": {},
   "outputs": [],
   "source": [
    "from newspaper import Article, Config\n",
    "config = Config()\n",
    "config.browser_user_agent = \"Mozilla/5.0 (Macintosh; Intel Mac OS X 10_15_7) AppleWebKit/537.36 (KHTML, like Gecko) Chrome/131.0.0.0 Safari/537.36\"\n",
    "\n",
    "try:\n",
    "    url = \"https://www.espn.com/fantasy/football/insider/story/_/id/42525671/2024-fantasy-football-advice-questions-answers-espn-experts-arena-week-12\"\n",
    "    article = Article(url)\n",
    "    article.download()\n",
    "    article.parse()\n",
    "    content = article.text\n",
    "except Exception as e:\n",
    "    content = \"Paywalled or Blocked\"\n",
    "    print(content)\n",
    "else:\n",
    "    print(content)"
   ]
  },
  {
   "cell_type": "markdown",
   "metadata": {},
   "source": [
    "## newspaper3k with Redirects"
   ]
  },
  {
   "cell_type": "code",
   "execution_count": null,
   "metadata": {},
   "outputs": [],
   "source": [
    "import requests\n",
    "\n",
    "url = \"\"\n",
    "https://news.google.com/rss/articles/CBMiWkFVX3lxTFBWU2c3ZFJsQ0Z1MXgxZVFXYXF2VDMxbWIzREhIU004dUlaMGRvcE1tci1sVVRPNmpjNXdmSWFiTVZoR1FlMDVyVE1mVy1hVHRqcVR2QzBmbGdIUdIBX0FVX3lxTE83RlFOamNfRFBqN29HcnN3R3NpNUtUbS1CanJJTmk5eXdNcVZ2MTdvSmxLVTRtZkdCN0ktSmhfUDFaQUo0eC1Pb2RabVVkOHZQMW1GZzRyUGExMFVyLXpn?oc=5\n",
    "response = requests.get(url, allow_redirects=True)\n",
    "print(response.url)\n",
    "\n",
    "url2 = \"https://news.google.com/rss/articles/CBMiWkFVX3lxTFBWU2c3ZFJsQ0Z1MXgxZVFXYXF2VDMxbWIzREhIU004dUlaMGRvcE1tci1sVVRPNmpjNXdmSWFiTVZoR1FlMDVyVE1mVy1hVHRqcVR2QzBmbGdIUdIBX0FVX3lxTE83RlFOamNfRFBqN29HcnN3R3NpNUtUbS1CanJJTmk5eXdNcVZ2MTdvSmxLVTRtZkdCN0ktSmhfUDFaQUo0eC1Pb2RabVVkOHZQMW1GZzRyUGExMFVyLXpn?oc=5&hl=en-US&gl=US&ceid=US:en\"\n",
    "\n",
    "response2 = requests.get(url2, allow_redirects=True)\n",
    "print(response.url)\n"
   ]
  },
  {
   "cell_type": "markdown",
   "metadata": {},
   "source": [
    "## Selenium for Javascript Heavy"
   ]
  },
  {
   "cell_type": "code",
   "execution_count": null,
   "metadata": {},
   "outputs": [],
   "source": [
    "from selenium import webdriver\n",
    "\n",
    "driver = webdriver.Chrome()  # Install appropriate WebDriver for your browser\n",
    "driver.get(\"https://news.google.com/rss/articles/CBMiWkFVX3lxTFBWU2c3ZFJsQ0Z1MXgxZVFXYXF2VDMxbWIzREhIU004dUlaMGRvcE1tci1sVVRPNmpjNXdmSWFiTVZoR1FlMDVyVE1mVy1hVHRqcVR2QzBmbGdIUdIBX0FVX3lxTE83RlFOamNfRFBqN29HcnN3R3NpNUtUbS1CanJJTmk5eXdNcVZ2MTdvSmxLVTRtZkdCN0ktSmhfUDFaQUo0eC1Pb2RabVVkOHZQMW1GZzRyUGExMFVyLXpn?oc=5\")\n",
    "print(driver.page_source)  # Get the rendered page source\n",
    "driver.quit()"
   ]
  },
  {
   "cell_type": "markdown",
   "metadata": {},
   "source": [
    "## Testing Using Feed Parser"
   ]
  },
  {
   "cell_type": "code",
   "execution_count": null,
   "metadata": {},
   "outputs": [],
   "source": [
    "import feedparser\n",
    "\n",
    "url = \"https://news.google.com/rss/articles/CBMiWkFVX3lxTFBWU2c3ZFJsQ0Z1MXgxZVFXYXF2VDMxbWIzREhIU004dUlaMGRvcE1tci1sVVRPNmpjNXdmSWFiTVZoR1FlMDVyVE1mVy1hVHRqcVR2QzBmbGdIUdIBX0FVX3lxTE83RlFOamNfRFBqN29HcnN3R3NpNUtUbS1CanJJTmk5eXdNcVZ2MTdvSmxLVTRtZkdCN0ktSmhfUDFaQUo0eC1Pb2RabVVkOHZQMW1GZzRyUGExMFVyLXpn?oc=5\"\n",
    "feed = feedparser.parse(url)\n",
    "print(feed)\n",
    "articles = []\n",
    "for entry in feed.entries:\n",
    "    if 'link' in entry:\n",
    "        articles.append(entry.link)\n",
    "\n",
    "print(articles)\n",
    "\n"
   ]
  }
 ],
 "metadata": {
  "kernelspec": {
   "display_name": ".venv",
   "language": "python",
   "name": "python3"
  },
  "language_info": {
   "codemirror_mode": {
    "name": "ipython",
    "version": 3
   },
   "file_extension": ".py",
   "mimetype": "text/x-python",
   "name": "python",
   "nbconvert_exporter": "python",
   "pygments_lexer": "ipython3",
   "version": "3.11.10"
  }
 },
 "nbformat": 4,
 "nbformat_minor": 2
}
