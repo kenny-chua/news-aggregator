{
 "cells": [
  {
   "cell_type": "markdown",
   "metadata": {},
   "source": [
    "# Testing Retrieving Articles"
   ]
  },
  {
   "cell_type": "markdown",
   "metadata": {},
   "source": [
    "## Cleaning - GOOD!"
   ]
  },
  {
   "cell_type": "code",
   "execution_count": null,
   "metadata": {},
   "outputs": [],
   "source": [
    "def clean_malformed_escaped_url(url: str) -> str:\n",
    "    print(repr(url))\n",
    "    url = url.strip()\n",
    "    print(repr(url))\n",
    "    url = url.replace(\"\\\\u003d\", \"=\")\n",
    "    print(repr(url))\n",
    "    url = url.replace(\" \", \"%20\")\n",
    "    return url\n",
    "\n",
    "url = \"https://abcnews.go.com/US/bird-flu-found-sample-california-raw-milk-officials/story?id\\\\u003d116185808\"\n",
    "print(clean_malformed_escaped_url(url))"
   ]
  },
  {
   "cell_type": "markdown",
   "metadata": {},
   "source": [
    "## Testing with Fork Newspaper4k"
   ]
  },
  {
   "cell_type": "code",
   "execution_count": null,
   "metadata": {},
   "outputs": [],
   "source": [
    "from playwright.sync_api import sync_playwright\n",
    "import time\n",
    "import newspaper\n",
    "\n",
    "def scrape_with_playwright(url):\n",
    "    # Using Playwright to render JavaScript\n",
    "    with sync_playwright() as p:\n",
    "        browser = p.chromium.launch()\n",
    "        context = browser.new_context()\n",
    "        context.set_default_timeout(60000)\n",
    "        page = context.new_page()\n",
    "        page.goto(url, wait_until=\"domcontentloaded\", timeout=60000)\n",
    "        time.sleep(3) # Allow the javascript to render\n",
    "        content = page.content()\n",
    "        browser.close()\n",
    "    article = newspaper.article(url, input_html=content, language='en')\n",
    "    return article\n",
    "\n",
    "url = \"https://www.sfgate.com/bayarea/article/hannah-kobayashi-father-found-dead-19941244.php\"\n",
    "print(scrape_with_playwright(url))"
   ]
  },
  {
   "cell_type": "markdown",
   "metadata": {},
   "source": [
    "## Newspaper 3k"
   ]
  },
  {
   "cell_type": "code",
   "execution_count": null,
   "metadata": {},
   "outputs": [],
   "source": [
    "from newspaper import Article, Config\n",
    "config = Config()\n",
    "config.browser_user_agent = \"Mozilla/5.0 (Macintosh; Intel Mac OS X 10_15_7) AppleWebKit/537.36 (KHTML, like Gecko) Chrome/131.0.0.0 Safari/537.36\"\n",
    "\n",
    "try:\n",
    "    url = \"https://www.espn.com/fantasy/football/insider/story/_/id/42525671/2024-fantasy-football-advice-questions-answers-espn-experts-arena-week-12\"\n",
    "    article = Article(url)\n",
    "    article.download()\n",
    "    article.parse()\n",
    "    content = article.text\n",
    "except Exception as e:\n",
    "    content = \"Paywalled or Blocked\"\n",
    "    print(content)\n",
    "else:\n",
    "    print(content)"
   ]
  },
  {
   "cell_type": "markdown",
   "metadata": {},
   "source": [
    "## newspaper3k with Redirects"
   ]
  },
  {
   "cell_type": "code",
   "execution_count": null,
   "metadata": {},
   "outputs": [],
   "source": [
    "import requests\n",
    "\n",
    "url = \"\"\n",
    "https://news.google.com/rss/articles/CBMiWkFVX3lxTFBWU2c3ZFJsQ0Z1MXgxZVFXYXF2VDMxbWIzREhIU004dUlaMGRvcE1tci1sVVRPNmpjNXdmSWFiTVZoR1FlMDVyVE1mVy1hVHRqcVR2QzBmbGdIUdIBX0FVX3lxTE83RlFOamNfRFBqN29HcnN3R3NpNUtUbS1CanJJTmk5eXdNcVZ2MTdvSmxLVTRtZkdCN0ktSmhfUDFaQUo0eC1Pb2RabVVkOHZQMW1GZzRyUGExMFVyLXpn?oc=5\n",
    "response = requests.get(url, allow_redirects=True)\n",
    "print(response.url)\n",
    "\n",
    "url2 = \"https://news.google.com/rss/articles/CBMiWkFVX3lxTFBWU2c3ZFJsQ0Z1MXgxZVFXYXF2VDMxbWIzREhIU004dUlaMGRvcE1tci1sVVRPNmpjNXdmSWFiTVZoR1FlMDVyVE1mVy1hVHRqcVR2QzBmbGdIUdIBX0FVX3lxTE83RlFOamNfRFBqN29HcnN3R3NpNUtUbS1CanJJTmk5eXdNcVZ2MTdvSmxLVTRtZkdCN0ktSmhfUDFaQUo0eC1Pb2RabVVkOHZQMW1GZzRyUGExMFVyLXpn?oc=5&hl=en-US&gl=US&ceid=US:en\"\n",
    "\n",
    "response2 = requests.get(url2, allow_redirects=True)\n",
    "print(response.url)\n"
   ]
  },
  {
   "cell_type": "markdown",
   "metadata": {},
   "source": [
    "## Selenium for Javascript Heavy"
   ]
  },
  {
   "cell_type": "code",
   "execution_count": null,
   "metadata": {},
   "outputs": [],
   "source": [
    "from selenium import webdriver\n",
    "\n",
    "driver = webdriver.Chrome()  # Install appropriate WebDriver for your browser\n",
    "driver.get(\"https://news.google.com/rss/articles/CBMiWkFVX3lxTFBWU2c3ZFJsQ0Z1MXgxZVFXYXF2VDMxbWIzREhIU004dUlaMGRvcE1tci1sVVRPNmpjNXdmSWFiTVZoR1FlMDVyVE1mVy1hVHRqcVR2QzBmbGdIUdIBX0FVX3lxTE83RlFOamNfRFBqN29HcnN3R3NpNUtUbS1CanJJTmk5eXdNcVZ2MTdvSmxLVTRtZkdCN0ktSmhfUDFaQUo0eC1Pb2RabVVkOHZQMW1GZzRyUGExMFVyLXpn?oc=5\")\n",
    "print(driver.page_source)  # Get the rendered page source\n",
    "driver.quit()"
   ]
  },
  {
   "cell_type": "markdown",
   "metadata": {},
   "source": [
    "## Testing Using Feed Parser"
   ]
  },
  {
   "cell_type": "code",
   "execution_count": null,
   "metadata": {},
   "outputs": [],
   "source": [
    "import feedparser\n",
    "\n",
    "url = \"https://news.google.com/rss/articles/CBMiWkFVX3lxTFBWU2c3ZFJsQ0Z1MXgxZVFXYXF2VDMxbWIzREhIU004dUlaMGRvcE1tci1sVVRPNmpjNXdmSWFiTVZoR1FlMDVyVE1mVy1hVHRqcVR2QzBmbGdIUdIBX0FVX3lxTE83RlFOamNfRFBqN29HcnN3R3NpNUtUbS1CanJJTmk5eXdNcVZ2MTdvSmxLVTRtZkdCN0ktSmhfUDFaQUo0eC1Pb2RabVVkOHZQMW1GZzRyUGExMFVyLXpn?oc=5\"\n",
    "feed = feedparser.parse(url)\n",
    "print(feed)\n",
    "articles = []\n",
    "for entry in feed.entries:\n",
    "    if 'link' in entry:\n",
    "        articles.append(entry.link)\n",
    "\n",
    "print(articles)\n",
    "\n"
   ]
  }
 ],
 "metadata": {
  "kernelspec": {
   "display_name": ".venv",
   "language": "python",
   "name": "python3"
  },
  "language_info": {
   "codemirror_mode": {
    "name": "ipython",
    "version": 3
   },
   "file_extension": ".py",
   "mimetype": "text/x-python",
   "name": "python",
   "nbconvert_exporter": "python",
   "pygments_lexer": "ipython3",
   "version": "3.11.10"
  }
 },
 "nbformat": 4,
 "nbformat_minor": 2
}
