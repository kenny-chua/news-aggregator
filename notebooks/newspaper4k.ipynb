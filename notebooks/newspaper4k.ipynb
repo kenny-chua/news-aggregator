{
 "cells": [
  {
   "cell_type": "code",
   "execution_count": 12,
   "metadata": {},
   "outputs": [
    {
     "name": "stdout",
     "output_type": "stream",
     "text": [
      "__Title__: WD017.jpg (1000×563)\n",
      "\n",
      " \n"
     ]
    },
    {
     "name": "stderr",
     "output_type": "stream",
     "text": [
      "/var/folders/2r/h_lx6wy52mz9w668jc8q9vz40000gn/T/ipykernel_15097/3530907673.py:38: RuntimeWarning: coroutine 'scrape_with_playwright' was never awaited\n",
      "  article = await scrape_with_playwright(url)\n",
      "RuntimeWarning: Enable tracemalloc to get the object allocation traceback\n"
     ]
    }
   ],
   "source": [
    "from playwright.async_api import async_playwright\n",
    "from newspaper import Article\n",
    "\n",
    "\n",
    "async def scrape_with_playwright(url):\n",
    "    # Using Playwright to render JavaScript\n",
    "    async with async_playwright() as p:\n",
    "        # Launch Browser\n",
    "        browser = await p.chromium.launch(headless=True)\n",
    "        context = await browser.new_context() # Just for Jupyter\n",
    "        context.set_default_timeout(60000) # Just for Jupyter\n",
    "        \n",
    "        # Create a new page and navigate to URL\n",
    "        page = await context.new_page()\n",
    "        await page.goto(url, wait_until=\"domcontentloaded\", timeout=60000)\n",
    "\n",
    "        # Optional wait for rendering\n",
    "        await page.wait_for_timeout(3000)\n",
    "\n",
    "        # Get the page content\n",
    "        html_content = await page.content()\n",
    "        #time.sleep(2) # Allow the javascript to render\n",
    "        #content = page.content()\n",
    "        await browser.close()\n",
    "\n",
    "    # Using Newspaper4k to parse the page content\n",
    "    article = Article(url)\n",
    "    article.download(input_html=html_content)\n",
    "    article.parse()\n",
    "    #article.nlp()\n",
    "\n",
    "    return article\n",
    "\n",
    "# Example URL\n",
    "url = 'https://variety.com/wp-content/uploads/2024/12/MCDMUTH_WD017.jpg?w=1000&h=563&crop=1'  # Replace with the URL of your choice\n",
    "\n",
    "# Scrape and process the article\n",
    "article = await scrape_with_playwright(url)\n",
    "#article.nlp()\n",
    "\n",
    "print(article)\n",
    "\n",
    "# print(f\"Title: {article.title}\")\n",
    "# print(f\"Authors: {article.authors}\")\n",
    "# print(f\"Publication Date: {article.publish_date}\")\n",
    "# print(f\"Summary: {article.summary}\")\n",
    "# print(f\"Keywords: {article.keywords}\")"
   ]
  }
 ],
 "metadata": {
  "kernelspec": {
   "display_name": ".venv",
   "language": "python",
   "name": "python3"
  },
  "language_info": {
   "codemirror_mode": {
    "name": "ipython",
    "version": 3
   },
   "file_extension": ".py",
   "mimetype": "text/x-python",
   "name": "python",
   "nbconvert_exporter": "python",
   "pygments_lexer": "ipython3",
   "version": "3.11.10"
  }
 },
 "nbformat": 4,
 "nbformat_minor": 2
}
