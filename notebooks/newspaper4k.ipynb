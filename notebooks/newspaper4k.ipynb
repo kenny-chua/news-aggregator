{
 "cells": [
  {
   "cell_type": "code",
   "execution_count": null,
   "metadata": {},
   "outputs": [],
   "source": [
    "from playwright.sync_api import sync_playwright\n",
    "from newspaper import Article\n",
    "import time\n",
    "\n",
    "def scrape_with_playwright(url):\n",
    "    # Using Playwright to render JavaScript\n",
    "    with sync_playwright() as p:\n",
    "        browser = p.chromium.launch(headless=True)\n",
    "        page = browser.new_page()\n",
    "        page.goto(url)\n",
    "        time.sleep(2) # Allow the javascript to render\n",
    "        content = page.content()\n",
    "        browser.close()\n",
    "\n",
    "    # Using Newspaper4k to parse the page content\n",
    "    article = Article(url)\n",
    "    article.set_html(content)\n",
    "    article.parse()\n",
    "    article.nlp()\n",
    "\n",
    "    return article\n",
    "\n",
    "# Example URL\n",
    "url = 'https://ec.europa.eu/commission/presscorner/detail/en/ac_24_84'  # Replace with the URL of your choice\n",
    "\n",
    "# Scrape and process the article\n",
    "article = scrape_with_playwright(url)\n",
    "article.nlp()\n",
    "\n",
    "print(f\"Title: {article.title}\")\n",
    "print(f\"Authors: {article.authors}\")\n",
    "print(f\"Publication Date: {article.publish_date}\")\n",
    "print(f\"Summary: {article.summary}\")\n",
    "print(f\"Keywords: {article.keywords}\")"
   ]
  }
 ],
 "metadata": {
  "kernelspec": {
   "display_name": ".venv",
   "language": "python",
   "name": "python3"
  },
  "language_info": {
   "codemirror_mode": {
    "name": "ipython",
    "version": 3
   },
   "file_extension": ".py",
   "mimetype": "text/x-python",
   "name": "python",
   "nbconvert_exporter": "python",
   "pygments_lexer": "ipython3",
   "version": "3.11.10"
  }
 },
 "nbformat": 4,
 "nbformat_minor": 2
}
